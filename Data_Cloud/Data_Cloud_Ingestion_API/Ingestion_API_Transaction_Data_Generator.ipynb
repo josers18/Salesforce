{
 "cells": [
  {
   "cell_type": "markdown",
   "metadata": {},
   "source": [
    "# Ingestion API Transaction Data Generation Script"
   ]
  },
  {
   "cell_type": "markdown",
   "metadata": {},
   "source": [
    "### Import Packages"
   ]
  },
  {
   "cell_type": "code",
   "execution_count": 14,
   "metadata": {},
   "outputs": [],
   "source": [
    "from faker import Faker\n",
    "import random\n",
    "import datetime\n",
    "import pandas as pd"
   ]
  },
  {
   "cell_type": "markdown",
   "metadata": {},
   "source": [
    "### Initialize Faker"
   ]
  },
  {
   "cell_type": "code",
   "execution_count": 15,
   "metadata": {},
   "outputs": [],
   "source": [
    "fake = Faker()"
   ]
  },
  {
   "cell_type": "markdown",
   "metadata": {},
   "source": [
    "### Generate List of Account IDs we want to create transactions for"
   ]
  },
  {
   "cell_type": "code",
   "execution_count": 16,
   "metadata": {},
   "outputs": [],
   "source": [
    "account_ids = [\"001al00000EkcjqAAB\"]"
   ]
  },
  {
   "cell_type": "markdown",
   "metadata": {},
   "source": [
    "### Generate Baseline Variable Definitions"
   ]
  },
  {
   "cell_type": "code",
   "execution_count": 18,
   "metadata": {},
   "outputs": [],
   "source": [
    "category_mcc_mapping = {\n",
    "    \"Auto & Transport\": {\"mcc_range\": (4000, 4799), \"description\": \"Transportation services for auto and transport transactions\"},\n",
    "    \"Bills & Utilities\": {\"mcc_range\": (4800, 4999), \"description\": \"Utility services for bills and utilities\"},\n",
    "    \"Business Services\": {\"mcc_range\": (7300, 7999), \"description\": \"Business services\"},\n",
    "    \"Education\": {\"mcc_range\": (8000, 8999), \"description\": \"Professional services and membership organizations for education\"},\n",
    "    \"Entertainment\": {\"mcc_range\": (7300, 7999), \"description\": \"Entertainment activities\"},\n",
    "    \"Fees & Charges\": {\"mcc_range\": (7300, 7999), \"description\": \"Fees and charges\"},\n",
    "    \"Financial\": {\"mcc_range\": (7300, 7999), \"description\": \"Financial and banking services\"},\n",
    "    \"Food & Dining\": {\"mcc_range\": (5700, 7299), \"description\": \"Food and restaurant services\"},\n",
    "    \"Gifts & Donations\": {\"mcc_range\": (5700, 7299), \"description\": \"Gifts and donations\"},\n",
    "    \"Health & Fitness\": {\"mcc_range\": (1500, 2999), \"description\": \"Health and fitness services such as gyms, classes, etc.\"},\n",
    "    \"Home\": {\"mcc_range\": (7300, 7999), \"description\": \"Home improvement stores and home-related services\"},\n",
    "    \"Investments\": {\"mcc_range\": (7300, 7999), \"description\": \"Investments and financial services\"},\n",
    "    \"Kids\": {\"mcc_range\": (1500, 2999), \"description\": \"Childcare or child-related services\"},\n",
    "    \"Loans\": {\"mcc_range\": (7300, 7999), \"description\": \"Loans and loan payments\"},\n",
    "    \"Personal Care\": {\"mcc_range\": (1500, 2999), \"description\": \"Personal care items and services\"},\n",
    "    \"Pets\": {\"mcc_range\": (7300, 7999), \"description\": \"Pet stores, pet care, and pet grooming services\"},\n",
    "    \"Shopping\": {\"mcc_range\": (5000, 5599), \"description\": \"Retail stores\"},\n",
    "    \"Taxes\": {\"mcc_range\": (9000, 9999), \"description\": \"Taxes and internal revenue services\"},\n",
    "    \"Transfer\": {\"mcc_range\": (7300, 7999), \"description\": \"Financial money transfers\"},\n",
    "    \"Travel\": {\"mcc_range\": (4000, 4799), \"description\": \"Travel services such as airlines, hotels, trains, auto rentals, etc.\"},\n",
    "    \"Paycheck\": {\"mcc_range\": (7300, 7999), \"description\": \"Direct deposit\"},\n",
    "    \"Bonus\": {\"mcc_range\": (7300, 7999), \"description\": \"Performance or annual bonuses or commissions\"},\n",
    "    \"Rental Income\": {\"mcc_range\": (7300, 7999), \"description\": \"Rental income\"},\n",
    "    \"Interest Income\": {\"mcc_range\": (7300, 7999), \"description\": \"Account interest accrued\"},\n",
    "    \"Reimbursement\": {\"mcc_range\": (7300, 7999), \"description\": \"Purchase or service reimbursement\"},\n",
    "    \"Returned Purchase\": {\"mcc_range\": (5000, 5599), \"description\": \"Returns of merchandise\"},\n",
    "    \"Other Income\": {\"mcc_range\": (5700, 7299), \"description\": \"Miscellaneous purchases\"}\n",
    "}"
   ]
  },
  {
   "cell_type": "code",
   "execution_count": 19,
   "metadata": {},
   "outputs": [],
   "source": [
    "# MCC categories\n",
    "mcc_categories = {\n",
    "    (1500, 2999): \"Contracted services\",\n",
    "    (4000, 4799): \"Transportation services\",\n",
    "    (4800, 4999): \"Utility services\",\n",
    "    (5000, 5599): \"Retail outlet services\",\n",
    "    (5700, 7299): \"Miscellaneous stores\",\n",
    "    (7300, 7999): \"Business services\",\n",
    "    (8000, 8999): \"Professional services\",\n",
    "    (9000, 9999): \"Government services\"\n",
    "}"
   ]
  },
  {
   "cell_type": "code",
   "execution_count": 20,
   "metadata": {},
   "outputs": [],
   "source": [
    "# Transaction statuses\n",
    "transaction_statuses = [\"Pending\", \"Posted\", \"Posted\", \"Posted\"]  # Posted is more common"
   ]
  },
  {
   "cell_type": "code",
   "execution_count": 21,
   "metadata": {},
   "outputs": [],
   "source": [
    "# Transaction subtypes\n",
    "transaction_subtypes = {\n",
    "    \"Auto & Transport\": [\"Auto Deposit\", \"Transport Payment\", \"Auto Purchase\"],\n",
    "    \"Bills & Utilities\": [\"Utility Bill Payment\", \"Bills Payment\", \"Utility Deposit\"],\n",
    "    \"Business Services\": [\"Business Fee\", \"Service Charge\", \"Professional Membership\"],\n",
    "    \"Education\": [\"Tuition Payment\", \"Education Expense\", \"School Fee\"],\n",
    "    \"Entertainment\": [\"Entertainment Expense\", \"Event Ticket Purchase\", \"Movie Rental\"],\n",
    "    \"Fees & Charges\": [\"Service Fee\", \"Charge Fee\", \"Transaction Fee\"],\n",
    "    \"Financial\": [\"Bank Fee\", \"Financial Charge\", \"Financial Service\"],\n",
    "    \"Food & Dining\": [\"Restaurant Bill Payment\", \"Food Purchase\", \"Dining Expense\"],\n",
    "    \"Gifts & Donations\": [\"Gift Purchase\", \"Donation\", \"Charity Payment\"],\n",
    "    \"Health & Fitness\": [\"Gym Membership\", \"Fitness Expense\", \"Healthcare Payment\"],\n",
    "    \"Home\": [\"Home Improvement Purchase\", \"Home Service Payment\", \"Home Maintenance\"],\n",
    "    \"Investments\": [\"Investment Fee\", \"Investment Expense\", \"Financial Investment\"],\n",
    "    \"Kids\": [\"Childcare Payment\", \"Kid Purchase\", \"Child Expense\"],\n",
    "    \"Loans\": [\"Loan Payment\", \"Loan Expense\", \"Loan Fee\"],\n",
    "    \"Personal Care\": [\"Personal Care Purchase\", \"Personal Service Payment\", \"Care Expense\"],\n",
    "    \"Pets\": [\"Pet Purchase\", \"Pet Care Payment\", \"Pet Expense\"],\n",
    "    \"Shopping\": [\"Retail Purchase\", \"Shopping Expense\", \"Store Payment\"],\n",
    "    \"Taxes\": [\"Tax Payment\", \"Tax Expense\", \"Tax Service\"],\n",
    "    \"Transfer\": [\"Transfer Service\", \"Money Transfer\", \"Financial Transfer\"],\n",
    "    \"Travel\": [\"Travel Expense\", \"Travel Ticket Purchase\", \"Travel Payment\"],\n",
    "    \"Paycheck\": [\"Direct Deposit\", \"Salary Payment\", \"Wage Deposit\"],\n",
    "    \"Bonus\": [\"Bonus Payment\", \"Performance Bonus\", \"Commission Payment\"],\n",
    "    \"Rental Income\": [\"Rental Payment\", \"Rental Deposit\", \"Rental Income\"],\n",
    "    \"Interest Income\": [\"Interest Earned\", \"Interest Payment\", \"Interest Deposit\"],\n",
    "    \"Reimbursement\": [\"Reimbursement\", \"Expense Reimbursement\", \"Service Refund\"],\n",
    "    \"Returned Purchase\": [\"Return Refund\", \"Product Return\", \"Refund Payment\"],\n",
    "    \"Other Income\": [\"Miscellaneous Payment\", \"Misc. Deposit\", \"Misc. Income\"]\n",
    "}"
   ]
  },
  {
   "cell_type": "markdown",
   "metadata": {},
   "source": [
    "### Generate Function to Create Transactions"
   ]
  },
  {
   "cell_type": "code",
   "execution_count": 26,
   "metadata": {},
   "outputs": [],
   "source": [
    "def generate_transaction():\n",
    "    transaction_category = random.choice(list(category_mcc_mapping.keys()))\n",
    "    mcc_range = category_mcc_mapping[transaction_category][\"mcc_range\"]\n",
    "    mcc = random.randint(mcc_range[0], mcc_range[1])\n",
    "    mcc_description = mcc_categories[(mcc_range[0], mcc_range[1])]\n",
    "\n",
    "    transaction_date = fake.date_time_between(start_date=\"-5d\", end_date=\"now\").strftime(\"%Y-%m-%d %H:%M:%S\")\n",
    "\n",
    "    transaction_subtype_options = transaction_subtypes[transaction_category]\n",
    "    transaction_subtype = random.choice(transaction_subtype_options)\n",
    "\n",
    "    if any(word in transaction_subtype.lower() for word in [\"deposit\", \"interest earned\", \"reversal\", \"misc. credit\"]):\n",
    "        transaction_type = \"Credit\"\n",
    "    else:\n",
    "        transaction_type = \"Debit\"\n",
    "    \n",
    "    transaction = {\n",
    "        \"accountid\": random.choice(account_ids),\n",
    "        \"transactionid\": fake.uuid4()[:100],\n",
    "        \"transaction_date\": transaction_date,\n",
    "        \"amount\": round(random.uniform(1, 2000), 2),\n",
    "        \"description\": category_mcc_mapping[transaction_category][\"description\"],\n",
    "        \"transaction_category\": transaction_category,\n",
    "        \"mcc\": mcc,\n",
    "        \"mcc_description\": mcc_description,\n",
    "        \"transaction_status\": random.choice(transaction_statuses),\n",
    "        \"post_date\": (datetime.datetime.strptime(transaction_date, \"%Y-%m-%d %H:%M:%S\") + datetime.timedelta(days=1)).strftime(\"%Y-%m-%d %H:%M:%S\"),\n",
    "        \"currency\": \"USD\",\n",
    "        \"is_disputed\": random.choices([0, 1], weights=[0.99, 0.01], k=1)[0],\n",
    "        \"transaction_type\": transaction_type,\n",
    "        \"transaction_subtype\": transaction_subtype,\n",
    "        \"running_balance\": round(random.uniform(1000, 100000), 2),\n",
    "        \"source_transaction_type\": transaction_type,\n",
    "        \"transaction_name\": fake.uuid4(),\n",
    "        \"data_date\": datetime.datetime.now().strftime(\"%Y-%m-%d %H:%M:%S\"),\n",
    "        \"is_deleted\": False\n",
    "    }\n",
    "    return transaction"
   ]
  },
  {
   "cell_type": "markdown",
   "metadata": {},
   "source": [
    "### Variable for number of transactions we want to generate"
   ]
  },
  {
   "cell_type": "code",
   "execution_count": 27,
   "metadata": {},
   "outputs": [],
   "source": [
    "n_transactions = 10"
   ]
  },
  {
   "cell_type": "markdown",
   "metadata": {},
   "source": [
    "### Execute Generation"
   ]
  },
  {
   "cell_type": "code",
   "execution_count": 28,
   "metadata": {},
   "outputs": [],
   "source": [
    "transactions = [generate_transaction() for _ in range(n_transactions)]"
   ]
  },
  {
   "cell_type": "markdown",
   "metadata": {},
   "source": [
    "### Save Output to a Dataframe"
   ]
  },
  {
   "cell_type": "code",
   "execution_count": 29,
   "metadata": {},
   "outputs": [
    {
     "name": "stdout",
     "output_type": "stream",
     "text": [
      "            accountid                         transactionid  \\\n",
      "0  001al00000EkcjqAAB  14ae7062-82ab-44d0-bf1c-7a5f78af35ac   \n",
      "1  001al00000EkcjqAAB  c93b1b53-83ac-43c6-81d4-7fb31df030a4   \n",
      "2  001al00000EkcjqAAB  1441175d-6d7d-4733-8836-d004c6af0301   \n",
      "3  001al00000EkcjqAAB  6210b11a-9f01-45f0-8253-a64f0eec381f   \n",
      "4  001al00000EkcjqAAB  c7de44e3-9e21-4a3e-9ebf-af361eebc3d9   \n",
      "5  001al00000EkcjqAAB  6d5a32d1-aed6-4bd8-bb32-8471968b9f36   \n",
      "6  001al00000EkcjqAAB  14878192-650d-46e5-be0d-1543cc52434b   \n",
      "7  001al00000EkcjqAAB  445b54ba-e462-44e8-9976-9b527701b60d   \n",
      "8  001al00000EkcjqAAB  0192a237-fe67-4d6f-b53d-750d33e6d546   \n",
      "9  001al00000EkcjqAAB  4538f6c9-c561-4fa5-9694-92a31567cdb2   \n",
      "\n",
      "      transaction_date  amount                                   description  \\\n",
      "0  2024-02-05 16:14:07  592.56           Childcare or child-related services   \n",
      "1  2024-16-05 05:04:48  601.98  Performance or annual bonuses or commissions   \n",
      "2  2024-23-04 01:19:34  583.14            Investments and financial services   \n",
      "3  2024-30-04 05:08:53  606.88            Investments and financial services   \n",
      "4  2024-30-04 11:10:29  613.13                     Financial money transfers   \n",
      "5  2024-21-04 21:00:42  594.59                       Loans and loan payments   \n",
      "6  2024-21-04 20:56:20  590.44                             Business services   \n",
      "7  2024-28-04 01:07:24  603.82      Utility services for bills and utilities   \n",
      "8  2024-09-05 22:27:27  606.70                       Miscellaneous purchases   \n",
      "9  2024-14-05 14:35:01  595.76                       Miscellaneous purchases   \n",
      "\n",
      "  transaction_category   mcc       mcc_description transaction_status  \\\n",
      "0                 Kids  2917   Contracted services             Posted   \n",
      "1                Bonus  7500     Business services            Pending   \n",
      "2          Investments  7512     Business services             Posted   \n",
      "3          Investments  7580     Business services            Pending   \n",
      "4             Transfer  7550     Business services             Posted   \n",
      "5                Loans  7709     Business services             Posted   \n",
      "6    Business Services  7982     Business services             Posted   \n",
      "7    Bills & Utilities  4876      Utility services            Pending   \n",
      "8         Other Income  6921  Miscellaneous stores             Posted   \n",
      "9         Other Income  6130  Miscellaneous stores             Posted   \n",
      "\n",
      "             post_date currency  is_disputed transaction_type  \\\n",
      "0  2024-03-05 16:14:07      USD            0            Debit   \n",
      "1  2024-17-05 05:04:48      USD            0            Debit   \n",
      "2  2024-24-04 01:19:34      USD            0            Debit   \n",
      "3  2024-01-05 05:08:53      USD            0            Debit   \n",
      "4  2024-01-05 11:10:29      USD            0            Debit   \n",
      "5  2024-22-04 21:00:42      USD            0            Debit   \n",
      "6  2024-22-04 20:56:20      USD            0            Debit   \n",
      "7  2024-29-04 01:07:24      USD            0           Credit   \n",
      "8  2024-10-05 22:27:27      USD            0           Credit   \n",
      "9  2024-15-05 14:35:01      USD            0            Debit   \n",
      "\n",
      "       transaction_subtype  running_balance source_transaction_type  \\\n",
      "0            Child Expense         48679.21                   Debit   \n",
      "1       Commission Payment         83673.52                   Debit   \n",
      "2       Investment Expense         63117.25                   Debit   \n",
      "3       Investment Expense         93015.69                   Debit   \n",
      "4           Money Transfer         40586.73                   Debit   \n",
      "5                 Loan Fee          7580.79                   Debit   \n",
      "6  Professional Membership          3568.62                   Debit   \n",
      "7          Utility Deposit         54838.37                  Credit   \n",
      "8            Misc. Deposit         38393.39                  Credit   \n",
      "9    Miscellaneous Payment         93438.91                   Debit   \n",
      "\n",
      "                       transaction_name            data_date  is_deleted  \n",
      "0  bd147da6-2254-4b3e-8894-671f25d92c31  2024-21-05 10:17:52       False  \n",
      "1  59bb76db-97cf-4392-a137-c6b71255f531  2024-21-05 10:17:52       False  \n",
      "2  a83a5c98-5585-4157-8aea-11ef09603c0f  2024-21-05 10:17:52       False  \n",
      "3  cffa0af9-a06b-4e31-b024-01a4a6a199ed  2024-21-05 10:17:52       False  \n",
      "4  c2f42f7e-f7af-40ba-b479-31fc2866a4fd  2024-21-05 10:17:52       False  \n",
      "5  5fe5ded7-8966-41da-af6d-3769f651e036  2024-21-05 10:17:52       False  \n",
      "6  7092e205-589e-4d3e-8156-7b096eddbd09  2024-21-05 10:17:52       False  \n",
      "7  62897cb5-e5a1-4222-b7d0-9eaab7885a07  2024-21-05 10:17:52       False  \n",
      "8  5ef18867-c062-41c9-9454-789740dbbd53  2024-21-05 10:17:52       False  \n",
      "9  6b2d5423-adde-4bbf-9fc2-d3cd0abcf732  2024-21-05 10:17:52       False  \n"
     ]
    }
   ],
   "source": [
    "df = pd.DataFrame(transactions)\n",
    "print(df)"
   ]
  },
  {
   "cell_type": "markdown",
   "metadata": {},
   "source": [
    "### Output Transactions to a CSV File (Batch)"
   ]
  },
  {
   "cell_type": "code",
   "execution_count": null,
   "metadata": {},
   "outputs": [],
   "source": [
    "output = df.to_csv('/Users/jsifontes/Documents/Dev/Data Science/DataSets/Data Cloud/Transactions2.csv', index=False)"
   ]
  },
  {
   "cell_type": "markdown",
   "metadata": {},
   "source": [
    "### Output Trasactions to a JSON file (Streaming)"
   ]
  },
  {
   "cell_type": "code",
   "execution_count": null,
   "metadata": {},
   "outputs": [],
   "source": [
    "outputjson = df.to_json(orient=\"records\")\n",
    "data_envelope = f'{{\"data\": {outputjson}}}'\n",
    "print(data_envelope)"
   ]
  },
  {
   "cell_type": "markdown",
   "metadata": {},
   "source": [
    "### Write Output to JSON File"
   ]
  },
  {
   "cell_type": "code",
   "execution_count": null,
   "metadata": {},
   "outputs": [],
   "source": [
    "with open('/Users/jsifontes/Documents/Dev/Data Cloud/Datasets/Transactions.json','w') as output:\n",
    "    output.write(data_envelope)"
   ]
  }
 ],
 "metadata": {
  "kernelspec": {
   "display_name": "Python 3",
   "language": "python",
   "name": "python3"
  },
  "language_info": {
   "codemirror_mode": {
    "name": "ipython",
    "version": 3
   },
   "file_extension": ".py",
   "mimetype": "text/x-python",
   "name": "python",
   "nbconvert_exporter": "python",
   "pygments_lexer": "ipython3",
   "version": "3.10.4"
  }
 },
 "nbformat": 4,
 "nbformat_minor": 2
}
