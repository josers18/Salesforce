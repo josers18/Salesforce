{
 "cells": [
  {
   "cell_type": "markdown",
   "metadata": {},
   "source": [
    "# Data Cloud Batch Ingestion API"
   ]
  },
  {
   "cell_type": "markdown",
   "metadata": {
    "tags": [
     "Author: Jose Sifontes",
     "Team: Data Cloud Specialists",
     "email: jsifontes@salesforce.com"
    ]
   },
   "source": [
    "This notebook is a walkthrough of the process to ingest comma delimited data into a Data Cloud Instance utilizing the Streaming Ingestion API.\n",
    "- Author: Jose Sifontes\n",
    "- Email: jsifontes@salesforce.com\n",
    "\n",
    "**Resources:**\n",
    "These are the majority of the resources I utilized to develop this walkthrough process:\n",
    "- [Share Ingestion API Information with your Developer](https://help.salesforce.com/s/articleView?id=sf.c360_a_developer_required_information.htm&type=5)\n",
    "- [Get Started with Ingestion API](https://developer.salesforce.com/docs/atlas.en-us.c360a_api.meta/c360a_api/c360a_api_get_started.htm)\n",
    "- [Requirements for Ingestion API Schema File](https://help.salesforce.com/s/articleView?id=sf.c360_a_ingestion_api_schema_req.htm&type=5)\n",
    "- [Bulk Ingestion Walkthrough](https://developer.salesforce.com/docs/atlas.en-us.c360a_api.meta/c360a_api/c360a_api_bulk_insert_example.htm)\n",
    "- [Data Cloud Developers: Bulk Ingestion](https://developer.salesforce.com/docs/atlas.en-us.c360a_api.meta/c360a_api/c360a_api_bulk_ingestion.htm)\n",
    "- [Load Data Programmatically with the Ingestion API](https://developer.salesforce.com/blogs/2023/07/load-data-programmatically-with-the-ingestion-api)\n",
    "- [Using the Ingestion API to Load Data into Data Cloud](https://www.youtube.com/watch?v=3xWSVGcTORI)"
   ]
  },
  {
   "cell_type": "markdown",
   "metadata": {},
   "source": [
    "## Ingestion Process"
   ]
  },
  {
   "cell_type": "markdown",
   "metadata": {},
   "source": [
    "### Authentication Process"
   ]
  },
  {
   "cell_type": "markdown",
   "metadata": {},
   "source": [
    "##### Import Packages"
   ]
  },
  {
   "cell_type": "code",
   "execution_count": 58,
   "metadata": {},
   "outputs": [],
   "source": [
    "import requests\n",
    "import json\n",
    "import pandas as pd\n",
    "import config"
   ]
  },
  {
   "cell_type": "markdown",
   "metadata": {},
   "source": [
    "##### Define Salesforce OAuth endpoints"
   ]
  },
  {
   "cell_type": "code",
   "execution_count": 59,
   "metadata": {},
   "outputs": [],
   "source": [
    "authorization_url = 'https://login.salesforce.com/services/oauth2/authorize'\n",
    "token_url = 'https://login.salesforce.com/services/oauth2/token'"
   ]
  },
  {
   "cell_type": "markdown",
   "metadata": {},
   "source": [
    "##### Define Salesforce Credentials"
   ]
  },
  {
   "cell_type": "code",
   "execution_count": 60,
   "metadata": {},
   "outputs": [],
   "source": [
    "client_id = config.client_id\n",
    "client_secret = config.client_secret\n",
    "username = config.username\n",
    "password = config.password\n",
    "security_token = config.security_token"
   ]
  },
  {
   "cell_type": "markdown",
   "metadata": {},
   "source": [
    "##### Define Parameters Payload"
   ]
  },
  {
   "cell_type": "code",
   "execution_count": 61,
   "metadata": {},
   "outputs": [],
   "source": [
    "payload = {\n",
    "    'grant_type': 'password',\n",
    "    'client_id': client_id,\n",
    "    'client_secret': client_secret,\n",
    "    'username': username,\n",
    "    'password': password + security_token\n",
    "}\n"
   ]
  },
  {
   "cell_type": "markdown",
   "metadata": {},
   "source": [
    "##### Get Access Token"
   ]
  },
  {
   "cell_type": "code",
   "execution_count": 62,
   "metadata": {},
   "outputs": [],
   "source": [
    "response = requests.post(token_url, data=payload)"
   ]
  },
  {
   "cell_type": "markdown",
   "metadata": {},
   "source": [
    "##### Save and Print Instance and Access Token"
   ]
  },
  {
   "cell_type": "code",
   "execution_count": 63,
   "metadata": {},
   "outputs": [
    {
     "name": "stdout",
     "output_type": "stream",
     "text": [
      "Access Token: 00Dal000003O56w!AQEAQO1ZZscIRB1zgHQBuLne4rsuR5R5sf_Fas8UULN_1c.ZVGvRXtyZMe0un96ymeiiVMjvxs_KTcv2xaVF30FJu5HWYu_n\n",
      "Instance URL: https://storm-4f9bcb560dac64.my.salesforce.com\n"
     ]
    }
   ],
   "source": [
    "    access_token = response.json()['access_token']\n",
    "    instance_url = response.json()['instance_url']\n",
    "    print(\"Access Token:\", access_token)\n",
    "    print(\"Instance URL:\", instance_url)"
   ]
  },
  {
   "cell_type": "markdown",
   "metadata": {},
   "source": [
    "### Generate Data Cloud Token Exchange"
   ]
  },
  {
   "cell_type": "markdown",
   "metadata": {},
   "source": [
    "##### Define URL"
   ]
  },
  {
   "cell_type": "code",
   "execution_count": 64,
   "metadata": {},
   "outputs": [],
   "source": [
    "url = instance_url + '/services/a360/token'"
   ]
  },
  {
   "cell_type": "markdown",
   "metadata": {},
   "source": [
    "##### Define Headers"
   ]
  },
  {
   "cell_type": "code",
   "execution_count": 65,
   "metadata": {},
   "outputs": [],
   "source": [
    "headers = {\n",
    "    'Content-Type': 'application/x-www-form-urlencoded'\n",
    "}"
   ]
  },
  {
   "cell_type": "markdown",
   "metadata": {},
   "source": [
    "##### Define Payload"
   ]
  },
  {
   "cell_type": "code",
   "execution_count": 66,
   "metadata": {},
   "outputs": [],
   "source": [
    "payload = {\n",
    "    'grant_type': 'urn:salesforce:grant-type:external:cdp',\n",
    "    'subject_token': access_token,\n",
    "    'subject_token_type': 'urn:ietf:params:oauth:token-type:access_token'\n",
    "}"
   ]
  },
  {
   "cell_type": "markdown",
   "metadata": {},
   "source": [
    "##### Generate and Print Out Token"
   ]
  },
  {
   "cell_type": "code",
   "execution_count": 67,
   "metadata": {},
   "outputs": [
    {
     "name": "stdout",
     "output_type": "stream",
     "text": [
      "{\n",
      "    \"access_token\": \"eyJraWQiOiJDT1JFLjAwRGFsMDAwMDAzTzU2dy4xNzEyNTkwNzQ0NjM2IiwidHlwIjoiSldUIiwiYWxnIjoiRVMyNTYifQ.eyJzdWIiOiJodHRwczovL2xvZ2luLnNhbGVzZm9yY2UuY29tL2lkLzAwRGFsMDAwMDAzTzU2d0VBQy8wMDVhbDAwMDAwMTdGelJBQVUiLCJzY3AiOiJjZHBfcHJvZmlsZV9hcGkgY2RwX2luZ2VzdF9hcGkgY2RwX2lkZW50aXR5cmVzb2x1dGlvbl9hcGkgY2RwX3NlZ21lbnRfYXBpIGNkcF9xdWVyeV9hcGkgY2RwX2FwaSIsImlzcyI6Imh0dHBzOi8vbG9naW4uc2FsZXNmb3JjZS5jb20vIiwib3JnSWQiOiIwMERhbDAwMDAwM081NnciLCJpc3N1ZXJUZW5hbnRJZCI6ImNvcmUvcHJvZC8wMERhbDAwMDAwM081NndFQUMiLCJzZmFwcGlkIjoiM01WRzlIX0tWczZWOUxpTnhDU0d6bk9YdXdOV1hoU2N1clRsYTRmaE5maUt0blJFcUNPMDh6M2pndlJqaXhUdHU4M3VwdWlYSXJpREpjbEdueWdBRyIsImF1ZGllbmNlVGVuYW50SWQiOiJhMzYwL3Byb2QvMmRhNjgxYzNhYTYwNDYxYmIxYjRmZjBiNGRhOWNmOGUiLCJjdXN0b21fYXR0cmlidXRlcyI6eyJkYXRhc3BhY2UiOiJkZWZhdWx0In0sImF1ZCI6ImFwaS5hMzYwLnNhbGVzZm9yY2UuY29tIiwibmJmIjoxNzE2MzA4MTkzLCJzZm9pZCI6IjAwRGFsMDAwMDAzTzU2dyIsInNmdWlkIjoiMDA1YWwwMDAwMDE3RnpSIiwiZXhwIjoxNzE2Mzk0NTkwLCJpYXQiOjE3MTYzMDgyNTMsImp0aSI6IjAyYWIwNjFhLTBlNWEtNDIyNy04MDU2LWI3OWZlYjdiYzk3MCJ9.RYrZao5JYk0JdYLFQc0304xF7Tg_mVoF7dkkdZVzr2XQkzOTTWtLHlcL9tRjpdiXkBetoAWUt6LXtj6kYimG0A\",\n",
      "    \"expires_in\": 86337,\n",
      "    \"instance_url\": \"gy4tqnr-mqzwcmrvmnsdqyzzh1.c360a.salesforce.com\",\n",
      "    \"issued_token_type\": \"urn:ietf:params:oauth:token-type:jwt\",\n",
      "    \"token_type\": \"Bearer\"\n",
      "}\n"
     ]
    }
   ],
   "source": [
    "response = requests.post(url, data=payload, headers=headers)\n",
    "dc_access_token = response.json()\n",
    "print(json.dumps(dc_access_token,indent=4, sort_keys=True))"
   ]
  },
  {
   "cell_type": "markdown",
   "metadata": {},
   "source": [
    "##### Save Token into a Variable"
   ]
  },
  {
   "cell_type": "code",
   "execution_count": 68,
   "metadata": {},
   "outputs": [
    {
     "name": "stdout",
     "output_type": "stream",
     "text": [
      "eyJraWQiOiJDT1JFLjAwRGFsMDAwMDAzTzU2dy4xNzEyNTkwNzQ0NjM2IiwidHlwIjoiSldUIiwiYWxnIjoiRVMyNTYifQ.eyJzdWIiOiJodHRwczovL2xvZ2luLnNhbGVzZm9yY2UuY29tL2lkLzAwRGFsMDAwMDAzTzU2d0VBQy8wMDVhbDAwMDAwMTdGelJBQVUiLCJzY3AiOiJjZHBfcHJvZmlsZV9hcGkgY2RwX2luZ2VzdF9hcGkgY2RwX2lkZW50aXR5cmVzb2x1dGlvbl9hcGkgY2RwX3NlZ21lbnRfYXBpIGNkcF9xdWVyeV9hcGkgY2RwX2FwaSIsImlzcyI6Imh0dHBzOi8vbG9naW4uc2FsZXNmb3JjZS5jb20vIiwib3JnSWQiOiIwMERhbDAwMDAwM081NnciLCJpc3N1ZXJUZW5hbnRJZCI6ImNvcmUvcHJvZC8wMERhbDAwMDAwM081NndFQUMiLCJzZmFwcGlkIjoiM01WRzlIX0tWczZWOUxpTnhDU0d6bk9YdXdOV1hoU2N1clRsYTRmaE5maUt0blJFcUNPMDh6M2pndlJqaXhUdHU4M3VwdWlYSXJpREpjbEdueWdBRyIsImF1ZGllbmNlVGVuYW50SWQiOiJhMzYwL3Byb2QvMmRhNjgxYzNhYTYwNDYxYmIxYjRmZjBiNGRhOWNmOGUiLCJjdXN0b21fYXR0cmlidXRlcyI6eyJkYXRhc3BhY2UiOiJkZWZhdWx0In0sImF1ZCI6ImFwaS5hMzYwLnNhbGVzZm9yY2UuY29tIiwibmJmIjoxNzE2MzA4MTkzLCJzZm9pZCI6IjAwRGFsMDAwMDAzTzU2dyIsInNmdWlkIjoiMDA1YWwwMDAwMDE3RnpSIiwiZXhwIjoxNzE2Mzk0NTkwLCJpYXQiOjE3MTYzMDgyNTMsImp0aSI6IjAyYWIwNjFhLTBlNWEtNDIyNy04MDU2LWI3OWZlYjdiYzk3MCJ9.RYrZao5JYk0JdYLFQc0304xF7Tg_mVoF7dkkdZVzr2XQkzOTTWtLHlcL9tRjpdiXkBetoAWUt6LXtj6kYimG0A\n"
     ]
    }
   ],
   "source": [
    "dc_token = dc_access_token['access_token']\n",
    "print(dc_access_token['access_token'])"
   ]
  },
  {
   "cell_type": "markdown",
   "metadata": {},
   "source": [
    "### Batch Ingestion API Process"
   ]
  },
  {
   "cell_type": "markdown",
   "metadata": {},
   "source": [
    "##### Define Header for Batch Ingestion API"
   ]
  },
  {
   "cell_type": "code",
   "execution_count": 69,
   "metadata": {},
   "outputs": [],
   "source": [
    "headers = {\n",
    "        'Authorization': f'Bearer {dc_token}',\n",
    "        'Content-Type': 'application/json'\n",
    "    }"
   ]
  },
  {
   "cell_type": "markdown",
   "metadata": {},
   "source": [
    "##### Define Batch Ingestion API Endpoint URL"
   ]
  },
  {
   "cell_type": "code",
   "execution_count": 70,
   "metadata": {},
   "outputs": [],
   "source": [
    "url = \"https://gy4tqnr-mqzwcmrvmnsdqyzzh1.c360a.salesforce.com/api/v1/ingest/jobs\""
   ]
  },
  {
   "cell_type": "markdown",
   "metadata": {},
   "source": [
    "### Creating Batch Ingestion Job"
   ]
  },
  {
   "cell_type": "markdown",
   "metadata": {},
   "source": [
    "The Batch Ingestion process consists of 3 parts:\n",
    "- Create a Job\n",
    "- Upload to the Job\n",
    "- Close Job"
   ]
  },
  {
   "cell_type": "markdown",
   "metadata": {},
   "source": [
    "#### Create a Job"
   ]
  },
  {
   "cell_type": "markdown",
   "metadata": {},
   "source": [
    "##### Define JSON Payload to send to API"
   ]
  },
  {
   "cell_type": "code",
   "execution_count": 71,
   "metadata": {},
   "outputs": [],
   "source": [
    "payload = json.dumps({\n",
    "    \"object\": \"Transaction\",\n",
    "    \"sourceName\": \"Transaction_Ingestion\",\n",
    "    \"operation\": \"upsert\"\n",
    "})"
   ]
  },
  {
   "cell_type": "markdown",
   "metadata": {},
   "source": [
    "##### Post Request"
   ]
  },
  {
   "cell_type": "code",
   "execution_count": 72,
   "metadata": {},
   "outputs": [],
   "source": [
    "response = requests.request(\"POST\", url, headers=headers, data=payload)"
   ]
  },
  {
   "cell_type": "markdown",
   "metadata": {},
   "source": [
    "##### Check Response"
   ]
  },
  {
   "cell_type": "code",
   "execution_count": 73,
   "metadata": {},
   "outputs": [
    {
     "name": "stdout",
     "output_type": "stream",
     "text": [
      "{\"object\":\"Transaction\",\"id\":\"3dda1d3a-0672-48d3-9ee4-bb6ffa55b0cd\",\"operation\":\"upsert\",\"sourceName\":\"Transaction_Ingestion\",\"createdById\":\"005al0000017FzRAAU\",\"createdDate\":\"2024-05-21T16:19:22.456058Z\",\"systemModstamp\":\"\",\"state\":\"Open\",\"contentType\":\"CSV\",\"apiVersion\":\"v1\",\"contentUrl\":\"/api/v1/ingest/jobs/3dda1d3a-0672-48d3-9ee4-bb6ffa55b0cd/batches\"}\n"
     ]
    }
   ],
   "source": [
    "print(response.text)"
   ]
  },
  {
   "cell_type": "markdown",
   "metadata": {},
   "source": [
    "##### Get Job ID and Store It"
   ]
  },
  {
   "cell_type": "code",
   "execution_count": 74,
   "metadata": {},
   "outputs": [
    {
     "name": "stdout",
     "output_type": "stream",
     "text": [
      "3dda1d3a-0672-48d3-9ee4-bb6ffa55b0cd\n"
     ]
    }
   ],
   "source": [
    "JobID = response.json()['id']\n",
    "print(JobID)"
   ]
  },
  {
   "cell_type": "markdown",
   "metadata": {},
   "source": [
    "#### Upload to Job"
   ]
  },
  {
   "cell_type": "markdown",
   "metadata": {},
   "source": [
    "##### Establish the URL for the enpoint which includes the job ID at the end"
   ]
  },
  {
   "cell_type": "code",
   "execution_count": 75,
   "metadata": {},
   "outputs": [],
   "source": [
    "url = f'https://gy4tqnr-mqzwcmrvmnsdqyzzh1.c360a.salesforce.com/api/v1/ingest/jobs/{JobID}/batches'"
   ]
  },
  {
   "cell_type": "markdown",
   "metadata": {},
   "source": [
    "##### Define path for the CSV file with the data we want to pass to the payload"
   ]
  },
  {
   "cell_type": "code",
   "execution_count": 76,
   "metadata": {},
   "outputs": [],
   "source": [
    "file_path = '/Users/jsifontes/Documents/Dev/Data Science/DataSets/Data Cloud/Transactions2.csv'"
   ]
  },
  {
   "cell_type": "markdown",
   "metadata": {},
   "source": []
  },
  {
   "cell_type": "markdown",
   "metadata": {},
   "source": [
    "##### Read In the CSV File and Post the Request"
   ]
  },
  {
   "cell_type": "code",
   "execution_count": 77,
   "metadata": {},
   "outputs": [],
   "source": [
    "with open(file_path, 'rb') as csvfile:\n",
    "    headers = {\n",
    "        'Authorization': f'Bearer {dc_token}',\n",
    "        'Content-Type': 'text/csv'\n",
    "    }\n",
    "    response = requests.request(\"PUT\", url, headers=headers, data=csvfile)"
   ]
  },
  {
   "cell_type": "markdown",
   "metadata": {},
   "source": [
    "##### Print the Response"
   ]
  },
  {
   "cell_type": "code",
   "execution_count": 78,
   "metadata": {},
   "outputs": [
    {
     "name": "stdout",
     "output_type": "stream",
     "text": [
      "{\"accepted\":true}\n"
     ]
    }
   ],
   "source": [
    "print(response.text)"
   ]
  },
  {
   "cell_type": "markdown",
   "metadata": {},
   "source": [
    "#### Close the Job"
   ]
  },
  {
   "cell_type": "markdown",
   "metadata": {},
   "source": [
    "##### Establish the endpoint URL with the job ID at the end"
   ]
  },
  {
   "cell_type": "code",
   "execution_count": 79,
   "metadata": {},
   "outputs": [],
   "source": [
    "url = f'https://gy4tqnr-mqzwcmrvmnsdqyzzh1.c360a.salesforce.com/api/v1/ingest/jobs/{JobID}'"
   ]
  },
  {
   "cell_type": "markdown",
   "metadata": {},
   "source": [
    "##### Generate the payload for the request to let it know the job is complete"
   ]
  },
  {
   "cell_type": "code",
   "execution_count": 80,
   "metadata": {},
   "outputs": [],
   "source": [
    "payload = json.dumps({\n",
    "    \"state\": \"UploadComplete\"\n",
    "})"
   ]
  },
  {
   "cell_type": "markdown",
   "metadata": {},
   "source": [
    "##### Post the Request to Patch the connection"
   ]
  },
  {
   "cell_type": "markdown",
   "metadata": {},
   "source": [
    "##### Redefine the Headers"
   ]
  },
  {
   "cell_type": "code",
   "execution_count": 81,
   "metadata": {},
   "outputs": [],
   "source": [
    "headers = {\n",
    "        'Authorization': f'Bearer {dc_token}',\n",
    "        'Content-Type': 'application/json'\n",
    "    }"
   ]
  },
  {
   "cell_type": "markdown",
   "metadata": {},
   "source": [
    "##### Patch the Connection"
   ]
  },
  {
   "cell_type": "code",
   "execution_count": 82,
   "metadata": {},
   "outputs": [],
   "source": [
    "response = requests.request(\"PATCH\", url, headers=headers, data=payload)"
   ]
  },
  {
   "cell_type": "markdown",
   "metadata": {},
   "source": [
    "##### Check the response"
   ]
  },
  {
   "cell_type": "code",
   "execution_count": 83,
   "metadata": {},
   "outputs": [
    {
     "name": "stdout",
     "output_type": "stream",
     "text": [
      "{\"object\":\"Transaction\",\"id\":\"3dda1d3a-0672-48d3-9ee4-bb6ffa55b0cd\",\"operation\":\"upsert\",\"sourceName\":\"Transaction_Ingestion\",\"createdById\":\"005al0000017FzRAAU\",\"createdDate\":\"2024-05-21T16:19:22.456058Z\",\"systemModstamp\":\"\",\"state\":\"UploadComplete\",\"contentType\":\"CSV\",\"apiVersion\":\"v1\"}\n"
     ]
    }
   ],
   "source": [
    "print(response.text)"
   ]
  },
  {
   "cell_type": "markdown",
   "metadata": {},
   "source": [
    "##### Check the Status of the Job"
   ]
  },
  {
   "cell_type": "code",
   "execution_count": 85,
   "metadata": {},
   "outputs": [
    {
     "name": "stdout",
     "output_type": "stream",
     "text": [
      "{\"object\":\"Transaction\",\"id\":\"3dda1d3a-0672-48d3-9ee4-bb6ffa55b0cd\",\"operation\":\"upsert\",\"sourceName\":\"Transaction_Ingestion\",\"createdById\":\"005al0000017FzRAAU\",\"createdDate\":\"2024-05-21T16:19:22.456058Z\",\"systemModstamp\":\"\",\"state\":\"InProgress\",\"contentType\":\"CSV\",\"apiVersion\":\"v1\",\"contentUrl\":\"/api/v1/ingest/jobs/3dda1d3a-0672-48d3-9ee4-bb6ffa55b0cd/batches\",\"retries\":0,\"totalProcessingTime\":0}\n",
      "200\n"
     ]
    }
   ],
   "source": [
    "response = requests.get(url, headers=headers)\n",
    "print(response.text)\n",
    "print(response.status_code)"
   ]
  }
 ],
 "metadata": {
  "kernelspec": {
   "display_name": "Python 3 (ipykernel)",
   "language": "python",
   "name": "python3"
  },
  "language_info": {
   "codemirror_mode": {
    "name": "ipython",
    "version": 3
   },
   "file_extension": ".py",
   "mimetype": "text/x-python",
   "name": "python",
   "nbconvert_exporter": "python",
   "pygments_lexer": "ipython3",
   "version": "3.10.4"
  }
 },
 "nbformat": 4,
 "nbformat_minor": 2
}
