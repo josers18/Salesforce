{
 "cells": [
  {
   "cell_type": "markdown",
   "metadata": {},
   "source": [
    "# Script to send CSV File to AWS Kinesis"
   ]
  },
  {
   "cell_type": "markdown",
   "metadata": {},
   "source": [
    "### Import Packages"
   ]
  },
  {
   "cell_type": "code",
   "execution_count": 1,
   "metadata": {},
   "outputs": [],
   "source": [
    "import boto3\n",
    "import csv\n",
    "import json\n",
    "import config"
   ]
  },
  {
   "cell_type": "markdown",
   "metadata": {},
   "source": [
    "### Establish AWS Credentials"
   ]
  },
  {
   "cell_type": "code",
   "execution_count": 2,
   "metadata": {},
   "outputs": [],
   "source": [
    "aws_access_key_id = config.aws_access_key_id\n",
    "aws_secret_access_key = config.aws_secret_access_key\n",
    "region_name = config.region_name\n",
    "stream_name = config.stream_name"
   ]
  },
  {
   "cell_type": "markdown",
   "metadata": {},
   "source": [
    "### Initialize Kinesis Client"
   ]
  },
  {
   "cell_type": "code",
   "execution_count": null,
   "metadata": {},
   "outputs": [],
   "source": [
    "kinesis = boto3.client('kinesis', \n",
    "                       aws_access_key_id=aws_access_key_id,\n",
    "                       aws_secret_access_key=aws_secret_access_key,\n",
    "                       region_name=region_name)"
   ]
  },
  {
   "cell_type": "markdown",
   "metadata": {},
   "source": [
    "### Define Script Functions to send and read CSV File"
   ]
  },
  {
   "cell_type": "code",
   "execution_count": null,
   "metadata": {},
   "outputs": [],
   "source": [
    "# Function to send records to Kinesis\n",
    "def send_to_kinesis(data):\n",
    "    for record in data:\n",
    "        # Convert each record to JSON format\n",
    "        json_data = json.dumps(record)\n",
    "        # Send the record to Kinesis\n",
    "        response = kinesis.put_record(StreamName=stream_name, Data=json_data, PartitionKey='1')\n",
    "        print(\"Record sent to Kinesis: {}\".format(response['SequenceNumber']))\n",
    "\n",
    "# Read CSV file and send records to Kinesis\n",
    "def send_csv_to_kinesis(file_path):\n",
    "    with open(file_path, 'r') as csvfile:\n",
    "        csv_reader = csv.DictReader(csvfile)\n",
    "        records = []\n",
    "        for row in csv_reader:\n",
    "            records.append(row)\n",
    "            if len(records) == 500:  # Send 500 records at a time\n",
    "                send_to_kinesis(records)\n",
    "                records = []\n",
    "        if records:  # Send remaining records\n",
    "            send_to_kinesis(records)"
   ]
  },
  {
   "cell_type": "markdown",
   "metadata": {},
   "source": [
    "### Define Path to Source CSV File"
   ]
  },
  {
   "cell_type": "code",
   "execution_count": null,
   "metadata": {},
   "outputs": [],
   "source": [
    "csv_file_path = '/Users/jsifontes/Documents/Dev/DataSet Creation/Data Cloud/web_engagements.csv'"
   ]
  },
  {
   "cell_type": "markdown",
   "metadata": {},
   "source": [
    "### Send file to Kinesis"
   ]
  },
  {
   "cell_type": "code",
   "execution_count": null,
   "metadata": {},
   "outputs": [],
   "source": [
    "send_csv_to_kinesis(csv_file_path)\n",
    "print(\"CSV file sent to Kinesis Data Stream.\")"
   ]
  }
 ],
 "metadata": {
  "kernelspec": {
   "display_name": "Python 3 (ipykernel)",
   "language": "python",
   "name": "python3"
  },
  "language_info": {
   "codemirror_mode": {
    "name": "ipython",
    "version": 3
   },
   "file_extension": ".py",
   "mimetype": "text/x-python",
   "name": "python",
   "nbconvert_exporter": "python",
   "pygments_lexer": "ipython3",
   "version": "3.10.4"
  }
 },
 "nbformat": 4,
 "nbformat_minor": 4
}
