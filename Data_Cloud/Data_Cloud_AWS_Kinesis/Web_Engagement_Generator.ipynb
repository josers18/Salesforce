{
 "cells": [
  {
   "cell_type": "markdown",
   "metadata": {},
   "source": [
    "# Web Engagement Data Generator Script"
   ]
  },
  {
   "cell_type": "markdown",
   "metadata": {},
   "source": [
    "### Import Packages"
   ]
  },
  {
   "cell_type": "code",
   "execution_count": null,
   "metadata": {},
   "outputs": [],
   "source": [
    "import pandas as pd\n",
    "import random\n",
    "import uuid\n",
    "from datetime import datetime, timedelta"
   ]
  },
  {
   "cell_type": "markdown",
   "metadata": {},
   "source": [
    "### Generate some editable variables for the script"
   ]
  },
  {
   "cell_type": "code",
   "execution_count": null,
   "metadata": {},
   "outputs": [],
   "source": [
    "contacts = ['003al000002AkZ2AAK']\n",
    "case_ids = []\n",
    "email_addresses = ['yvette.acme@example.com']\n",
    "engagement_channels = ['Web Chat', 'Email', 'Social Media']\n",
    "engagement_channel_actions = ['Click', 'Submit', 'View']\n",
    "engagement_channel_types = ['Inbound', 'Outbound']\n",
    "engagement_types = ['Sales', 'Support', 'Marketing']\n",
    "accounts = ['001al00000EkcjlAAB']\n",
    "names = ['Page Visit', 'Form Submission', 'Live Chat']\n",
    "referrers = ['Google', 'Direct', 'Social Media']"
   ]
  },
  {
   "cell_type": "markdown",
   "metadata": {},
   "source": [
    "### Define Some Script Functions to help in generating data"
   ]
  },
  {
   "cell_type": "code",
   "execution_count": null,
   "metadata": {},
   "outputs": [],
   "source": [
    "# Function to generate a random IP address\n",
    "def generate_ip_address():\n",
    "    return \".\".join(str(random.randint(0, 255)) for _ in range(4))\n",
    "\n",
    "# Function to generate a random datetime within a range\n",
    "def generate_random_datetime(start_date, end_date):\n",
    "    delta = end_date - start_date\n",
    "    seconds = random.randint(0, delta.total_seconds())\n",
    "    return start_date + timedelta(seconds=seconds)\n",
    "\n",
    "# Function to generate a random UUID\n",
    "def generate_uuid():\n",
    "    return str(uuid.uuid4())\n",
    "\n",
    "# Current date and time\n",
    "current_datetime = datetime.now()"
   ]
  },
  {
   "cell_type": "markdown",
   "metadata": {},
   "source": [
    "### Set Rows to Generate"
   ]
  },
  {
   "cell_type": "code",
   "execution_count": null,
   "metadata": {},
   "outputs": [],
   "source": [
    "num_rows = 5\n"
   ]
  },
  {
   "cell_type": "markdown",
   "metadata": {},
   "source": [
    "### Generate Data"
   ]
  },
  {
   "cell_type": "code",
   "execution_count": null,
   "metadata": {},
   "outputs": [],
   "source": [
    "data = []\n",
    "for _ in range(num_rows):\n",
    "    created_date = generate_random_datetime(current_datetime - timedelta(days=5), current_datetime)\n",
    "    website_visit_end_time = generate_random_datetime(created_date, created_date + timedelta(minutes=15))\n",
    "    data.append({\n",
    "        'Account_Contact': random.choice(contacts),\n",
    "        'Case': random.choice(case_ids) if case_ids else '',\n",
    "        'Contact_Point': random.choice(email_addresses),\n",
    "        'Created_Date': created_date,\n",
    "        'Device_Ip_Address': generate_ip_address(),\n",
    "        'Engagement_Channel': random.choice(engagement_channels),\n",
    "        'Engagement_Channel_Action': random.choice(engagement_channel_actions),\n",
    "        'Engagement_Channel_Type': random.choice(engagement_channel_types),\n",
    "        'Engagement_Type': random.choice(engagement_types),\n",
    "        'Engagement_Date_Time': created_date,\n",
    "        'Individual': random.choice(accounts),\n",
    "        'IP_Address': generate_ip_address(),\n",
    "        'Name': random.choice(names),\n",
    "        'Referrer': random.choice(referrers),\n",
    "        'Session': generate_uuid(),\n",
    "        'Website_Engagement_ID': generate_uuid(),\n",
    "        'Website_Visit_Start_Time': created_date,\n",
    "        'Website_Visit_End_Time': website_visit_end_time\n",
    "    })"
   ]
  },
  {
   "cell_type": "markdown",
   "metadata": {},
   "source": [
    "### Create Dataframe and print a sample"
   ]
  },
  {
   "cell_type": "code",
   "execution_count": null,
   "metadata": {},
   "outputs": [],
   "source": [
    "df = pd.DataFrame(data)\n",
    "print(df)"
   ]
  },
  {
   "cell_type": "markdown",
   "metadata": {},
   "source": [
    "### Export File To CSV"
   ]
  },
  {
   "cell_type": "code",
   "execution_count": null,
   "metadata": {},
   "outputs": [],
   "source": [
    "path = '/Users/jsifontes/Documents/Dev/DataSet Creation/Data Cloud/'\n",
    "df.to_csv(path + 'web_engagements.csv', index=False)\n",
    "print(\"CSV file generated successfully.\")"
   ]
  }
 ],
 "metadata": {
  "language_info": {
   "name": "python"
  }
 },
 "nbformat": 4,
 "nbformat_minor": 2
}
